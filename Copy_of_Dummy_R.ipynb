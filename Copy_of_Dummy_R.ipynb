{
  "cells": [
    {
      "cell_type": "code",
      "execution_count": null,
      "metadata": {
        "colab": {
          "background_save": true,
          "base_uri": "https://localhost:8080/"
        },
        "id": "LbqRnfTGi7kM",
        "outputId": "ceaf1bd4-5942-4685-b2d2-894ac30c00ac"
      },
      "outputs": [
        {
          "name": "stderr",
          "output_type": "stream",
          "text": [
            "Installing package into ‘/usr/local/lib/R/site-library’\n",
            "(as ‘lib’ is unspecified)\n",
            "\n",
            "also installing the dependencies ‘FNN’, ‘Rcpp’, ‘igraph’, ‘BH’, ‘RcppEigen’\n",
            "\n",
            "\n",
            "Warning message in install.packages(\"TDA\"):\n",
            "“installation of package ‘TDA’ had non-zero exit status”\n"
          ]
        }
      ],
      "source": [
        "install.packages(\"TDA\")"
      ]
    }
  ],
  "metadata": {
    "colab": {
      "provenance": []
    },
    "kernelspec": {
      "display_name": "R",
      "name": "ir"
    },
    "language_info": {
      "name": "R"
    }
  },
  "nbformat": 4,
  "nbformat_minor": 0
}